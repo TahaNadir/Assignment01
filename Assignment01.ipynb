{
 "cells": [
  {
   "cell_type": "code",
   "execution_count": 4,
   "id": "fc19bfd0-34b9-4069-9470-96f5064253f7",
   "metadata": {},
   "outputs": [
    {
     "name": "stdout",
     "output_type": "stream",
     "text": [
      "7\n"
     ]
    }
   ],
   "source": [
    "# Original salaries list\n",
    "salaries = ['20k', '40k', '50k', '60k', '35k', '89k', '40k']\n",
    "\n",
    "# 1. Length of the list\n",
    "length_of_list = len(salaries)\n",
    "print(length_of_list)"
   ]
  },
  {
   "cell_type": "code",
   "execution_count": 6,
   "id": "5199166c-92ba-41a1-bee2-36879101d1d2",
   "metadata": {},
   "outputs": [
    {
     "name": "stdout",
     "output_type": "stream",
     "text": [
      "50k\n"
     ]
    }
   ],
   "source": [
    "# 2. Retrieve the third salary by index\n",
    "third_salary = salaries[2]\n",
    "print(third_salary)"
   ]
  },
  {
   "cell_type": "code",
   "execution_count": 8,
   "id": "5411e52a-6e7e-414a-9f4a-ddb3a2d54e0b",
   "metadata": {},
   "outputs": [
    {
     "name": "stdout",
     "output_type": "stream",
     "text": [
      "40k\n"
     ]
    }
   ],
   "source": [
    "# 3. Extract the last salary using a negative index\n",
    "last_salary = salaries[-1]\n",
    "print(last_salary)"
   ]
  },
  {
   "cell_type": "code",
   "execution_count": 10,
   "id": "58a47340-04c9-4c03-bf4a-567c6033ba3d",
   "metadata": {},
   "outputs": [
    {
     "name": "stdout",
     "output_type": "stream",
     "text": [
      "['50k', '60k', '35k']\n"
     ]
    }
   ],
   "source": [
    "# 4. Slice the list to get the middle three salaries\n",
    "middle_three_salaries = salaries[2:5]\n",
    "print(middle_three_salaries)"
   ]
  },
  {
   "cell_type": "code",
   "execution_count": 12,
   "id": "052ffcf0-eeb9-42af-947d-1dfde1c24e92",
   "metadata": {},
   "outputs": [
    {
     "name": "stdout",
     "output_type": "stream",
     "text": [
      "['20k', '40k', '50k', '60k', '35k', '89k', '40k', '100k']\n"
     ]
    }
   ],
   "source": [
    "# 5. Add a new salary '100k' using append()\n",
    "salaries.append('100k')\n",
    "print(salaries)"
   ]
  },
  {
   "cell_type": "code",
   "execution_count": 14,
   "id": "2ce4a525-1271-4734-badc-3645b2f4914f",
   "metadata": {},
   "outputs": [
    {
     "name": "stdout",
     "output_type": "stream",
     "text": [
      "['20k', '40k', '50k', '60k', '35k', '89k', '40k', '100k', '120k']\n"
     ]
    }
   ],
   "source": [
    "# 5. Add a new salary '120k' without using a method\n",
    "salaries += ['120k']\n",
    "print(salaries)"
   ]
  },
  {
   "cell_type": "code",
   "execution_count": 16,
   "id": "3fc419da-1756-423d-8a8f-7aad7444a498",
   "metadata": {},
   "outputs": [
    {
     "name": "stdout",
     "output_type": "stream",
     "text": [
      "['20k', '40k', '55k', '60k', '35k', '89k', '40k', '100k', '120k']\n"
     ]
    }
   ],
   "source": [
    "# 6. Replace the third salary with '55k' and print the updated list\n",
    "salaries[2] = '55k'\n",
    "print(salaries)"
   ]
  },
  {
   "cell_type": "code",
   "execution_count": 20,
   "id": "21df1aad-2695-4a04-8011-45ece9cdbe02",
   "metadata": {},
   "outputs": [
    {
     "name": "stdout",
     "output_type": "stream",
     "text": [
      "2\n"
     ]
    }
   ],
   "source": [
    "# 7. Count how many times '40k' appears in the list\n",
    "count_40k = salaries.count('40k')\n",
    "print(count_40k)"
   ]
  },
  {
   "cell_type": "code",
   "execution_count": 22,
   "id": "777992ab-1e55-48ed-9be0-819ab8963cfa",
   "metadata": {},
   "outputs": [
    {
     "name": "stdout",
     "output_type": "stream",
     "text": [
      "['20k', '70k', '40k', '55k', '60k', '35k', '89k', '40k', '100k', '120k']\n"
     ]
    }
   ],
   "source": [
    "# 8. Insert a new salary at the second position\n",
    "salaries.insert(1, '70k')\n",
    "print(salaries)"
   ]
  },
  {
   "cell_type": "code",
   "execution_count": 26,
   "id": "00c57555-9366-45fb-921e-0ea316fa9f84",
   "metadata": {},
   "outputs": [
    {
     "name": "stdout",
     "output_type": "stream",
     "text": [
      "['20k', '70k', '40k', '55k', '60k', '35k', '89k', '40k', '100k', '120k']\n"
     ]
    }
   ],
   "source": [
    "# 9. Reverse the order of the list using a method\n",
    "salaries.reverse()\n",
    "print(salaries)"
   ]
  },
  {
   "cell_type": "code",
   "execution_count": 28,
   "id": "7512b379-c6ab-453c-9dc0-44a678992bee",
   "metadata": {},
   "outputs": [
    {
     "name": "stdout",
     "output_type": "stream",
     "text": [
      "['120k', '100k', '40k', '89k', '35k', '60k', '55k', '40k', '70k', '20k']\n"
     ]
    }
   ],
   "source": [
    "# 10. Reverse the order of the list without using a method\n",
    "salaries = salaries[::-1]\n",
    "print(salaries)"
   ]
  }
 ],
 "metadata": {
  "kernelspec": {
   "display_name": "Python [conda env:base] *",
   "language": "python",
   "name": "conda-base-py"
  },
  "language_info": {
   "codemirror_mode": {
    "name": "ipython",
    "version": 3
   },
   "file_extension": ".py",
   "mimetype": "text/x-python",
   "name": "python",
   "nbconvert_exporter": "python",
   "pygments_lexer": "ipython3",
   "version": "3.12.7"
  }
 },
 "nbformat": 4,
 "nbformat_minor": 5
}
